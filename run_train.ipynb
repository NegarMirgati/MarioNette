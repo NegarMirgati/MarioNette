{
  "nbformat": 4,
  "nbformat_minor": 0,
  "metadata": {
    "colab": {
      "provenance": [],
      "machine_shape": "hm",
      "gpuType": "A100",
      "authorship_tag": "ABX9TyOVFln5Z6vWj+qWxFYxOupM",
      "include_colab_link": true
    },
    "kernelspec": {
      "name": "python3",
      "display_name": "Python 3"
    },
    "language_info": {
      "name": "python"
    },
    "accelerator": "GPU"
  },
  "cells": [
    {
      "cell_type": "markdown",
      "metadata": {
        "id": "view-in-github",
        "colab_type": "text"
      },
      "source": [
        "<a href=\"https://colab.research.google.com/github/NegarMirgati/MarioNette/blob/main/run_train.ipynb\" target=\"_parent\"><img src=\"https://colab.research.google.com/assets/colab-badge.svg\" alt=\"Open In Colab\"/></a>"
      ]
    },
    {
      "cell_type": "code",
      "source": [
        "!sudo apt-get update -y\n",
        "!sudo apt-get install python3.8 -y\n",
        "!echo 2 | sudo update-alternatives --config python3 #'echo 2' auto-inputs '2' so that it doesn't have to be done manually"
      ],
      "metadata": {
        "colab": {
          "base_uri": "https://localhost:8080/"
        },
        "id": "5wCNWwPUdd57",
        "outputId": "050867f8-3322-421d-bc94-2017cdb776b4"
      },
      "execution_count": null,
      "outputs": [
        {
          "output_type": "stream",
          "name": "stdout",
          "text": [
            "\r0% [Working]\r            \rHit:1 https://cloud.r-project.org/bin/linux/ubuntu jammy-cran40/ InRelease\n",
            "Hit:2 https://developer.download.nvidia.com/compute/cuda/repos/ubuntu2204/x86_64  InRelease\n",
            "Hit:3 http://security.ubuntu.com/ubuntu jammy-security InRelease\n",
            "Hit:4 http://archive.ubuntu.com/ubuntu jammy InRelease\n",
            "Get:5 http://archive.ubuntu.com/ubuntu jammy-updates InRelease [119 kB]\n",
            "Hit:6 https://ppa.launchpadcontent.net/c2d4u.team/c2d4u4.0+/ubuntu jammy InRelease\n",
            "Hit:7 https://ppa.launchpadcontent.net/deadsnakes/ppa/ubuntu jammy InRelease\n",
            "Hit:8 https://ppa.launchpadcontent.net/graphics-drivers/ppa/ubuntu jammy InRelease\n",
            "Hit:9 http://archive.ubuntu.com/ubuntu jammy-backports InRelease\n",
            "Hit:10 https://ppa.launchpadcontent.net/ubuntugis/ppa/ubuntu jammy InRelease\n",
            "Fetched 119 kB in 2s (74.4 kB/s)\n",
            "Reading package lists... Done\n",
            "Reading package lists... Done\n",
            "Building dependency tree... Done\n",
            "Reading state information... Done\n",
            "python3.8 is already the newest version (3.8.18-1+jammy1).\n",
            "0 upgraded, 0 newly installed, 0 to remove and 36 not upgraded.\n",
            "There is only one alternative in link group python3 (providing /usr/local/bin/python3): /usr/bin/python3.9\n",
            "Nothing to configure.\n"
          ]
        }
      ]
    },
    {
      "cell_type": "code",
      "source": [
        "!sudo apt install --reinstall python3.9"
      ],
      "metadata": {
        "colab": {
          "base_uri": "https://localhost:8080/"
        },
        "id": "Dx3v_fzYe2-a",
        "outputId": "42750a6b-e31f-4d83-8c61-43f8d710697d"
      },
      "execution_count": null,
      "outputs": [
        {
          "output_type": "stream",
          "name": "stdout",
          "text": [
            "Reading package lists... Done\n",
            "Building dependency tree... Done\n",
            "Reading state information... Done\n",
            "0 upgraded, 0 newly installed, 1 reinstalled, 0 to remove and 36 not upgraded.\n",
            "Need to get 496 kB of archives.\n",
            "After this operation, 0 B of additional disk space will be used.\n",
            "Get:1 https://ppa.launchpadcontent.net/deadsnakes/ppa/ubuntu jammy/main amd64 python3.9 amd64 3.9.18-1+jammy1 [496 kB]\n",
            "Fetched 496 kB in 2s (276 kB/s)\n",
            "debconf: unable to initialize frontend: Dialog\n",
            "debconf: (No usable dialog-like program is installed, so the dialog based frontend cannot be used. at /usr/share/perl5/Debconf/FrontEnd/Dialog.pm line 78, <> line 1.)\n",
            "debconf: falling back to frontend: Readline\n",
            "debconf: unable to initialize frontend: Readline\n",
            "debconf: (This frontend requires a controlling tty.)\n",
            "debconf: falling back to frontend: Teletype\n",
            "dpkg-preconfigure: unable to re-open stdin: \n",
            "(Reading database ... 123950 files and directories currently installed.)\n",
            "Preparing to unpack .../python3.9_3.9.18-1+jammy1_amd64.deb ...\n",
            "Unpacking python3.9 (3.9.18-1+jammy1) over (3.9.18-1+jammy1) ...\n",
            "Setting up python3.9 (3.9.18-1+jammy1) ...\n",
            "Processing triggers for mailcap (3.70+nmu1ubuntu1) ...\n",
            "Processing triggers for man-db (2.10.2-1) ...\n"
          ]
        }
      ]
    },
    {
      "cell_type": "code",
      "source": [
        "!which python3.9"
      ],
      "metadata": {
        "colab": {
          "base_uri": "https://localhost:8080/"
        },
        "id": "u1sViBprgXZd",
        "outputId": "caa6c29d-ed33-45c6-998c-874ac0c5d0bb"
      },
      "execution_count": null,
      "outputs": [
        {
          "output_type": "stream",
          "name": "stdout",
          "text": [
            "/usr/bin/python3.9\n"
          ]
        }
      ]
    },
    {
      "cell_type": "code",
      "source": [
        "!sudo update-alternatives --install /usr/local/bin/python3 python3 /usr/bin/python3.9 2"
      ],
      "metadata": {
        "id": "ebAv9juEgQOl"
      },
      "execution_count": null,
      "outputs": []
    },
    {
      "cell_type": "code",
      "source": [
        "!sudo update-alternatives --config python3"
      ],
      "metadata": {
        "colab": {
          "base_uri": "https://localhost:8080/"
        },
        "id": "7ZKmcyhVoc-R",
        "outputId": "16fffc86-bf12-4811-b4d8-905cff039a70"
      },
      "execution_count": null,
      "outputs": [
        {
          "output_type": "stream",
          "name": "stdout",
          "text": [
            "There is only one alternative in link group python3 (providing /usr/local/bin/python3): /usr/bin/python3.9\n",
            "Nothing to configure.\n"
          ]
        }
      ]
    },
    {
      "cell_type": "code",
      "source": [
        "!python --version"
      ],
      "metadata": {
        "colab": {
          "base_uri": "https://localhost:8080/"
        },
        "id": "Ucdm4ubpfLz9",
        "outputId": "f25cd410-87d1-42de-bf79-2cbe68b3c5a6"
      },
      "execution_count": null,
      "outputs": [
        {
          "output_type": "stream",
          "name": "stdout",
          "text": [
            "Python 3.9.18\n"
          ]
        }
      ]
    },
    {
      "cell_type": "code",
      "execution_count": null,
      "metadata": {
        "colab": {
          "base_uri": "https://localhost:8080/"
        },
        "id": "iUmOZUQ78HXV",
        "outputId": "d69b195a-c8d4-475e-c6dc-cc317e7ef497"
      },
      "outputs": [
        {
          "output_type": "stream",
          "name": "stdout",
          "text": [
            "Drive already mounted at /content/drive; to attempt to forcibly remount, call drive.mount(\"/content/drive\", force_remount=True).\n"
          ]
        }
      ],
      "source": [
        "from google.colab import drive\n",
        "drive.mount(\"/content/drive\")"
      ]
    },
    {
      "cell_type": "code",
      "source": [
        "import sys"
      ],
      "metadata": {
        "id": "vvO2Iu4S8aT-"
      },
      "execution_count": null,
      "outputs": []
    },
    {
      "cell_type": "code",
      "source": [
        "sys.path.append(\"/content/drive/MyDrive/MarioNette-main\")"
      ],
      "metadata": {
        "id": "WXQZ4kM28cNg"
      },
      "execution_count": null,
      "outputs": []
    },
    {
      "cell_type": "code",
      "source": [
        "%cd \"/content/drive/MyDrive/MarioNette-main\""
      ],
      "metadata": {
        "colab": {
          "base_uri": "https://localhost:8080/"
        },
        "id": "eld4lJjh8kT1",
        "outputId": "2f6d917d-fcff-4e99-9501-8be18d3d3fa9"
      },
      "execution_count": null,
      "outputs": [
        {
          "output_type": "stream",
          "name": "stdout",
          "text": [
            "/content/drive/MyDrive/MarioNette-main\n"
          ]
        }
      ]
    },
    {
      "cell_type": "code",
      "source": [
        "!pwd"
      ],
      "metadata": {
        "colab": {
          "base_uri": "https://localhost:8080/"
        },
        "id": "H15lFIZC9MUf",
        "outputId": "95870c5e-d37f-40d8-fcb2-81ebbf74a27f"
      },
      "execution_count": null,
      "outputs": [
        {
          "output_type": "stream",
          "name": "stdout",
          "text": [
            "/content/drive/MyDrive/MarioNette-main\n"
          ]
        }
      ]
    },
    {
      "cell_type": "code",
      "source": [
        "!sudo apt install python3.9-distutils"
      ],
      "metadata": {
        "colab": {
          "base_uri": "https://localhost:8080/"
        },
        "id": "kiW0L1zXRLPv",
        "outputId": "99631bc1-4849-407a-98e1-286cf153816a"
      },
      "execution_count": null,
      "outputs": [
        {
          "output_type": "stream",
          "name": "stdout",
          "text": [
            "Reading package lists... Done\n",
            "Building dependency tree... Done\n",
            "Reading state information... Done\n",
            "python3.9-distutils is already the newest version (3.9.18-1+jammy1).\n",
            "0 upgraded, 0 newly installed, 0 to remove and 36 not upgraded.\n"
          ]
        }
      ]
    },
    {
      "cell_type": "code",
      "source": [
        "!sudo apt install python3-pip"
      ],
      "metadata": {
        "colab": {
          "base_uri": "https://localhost:8080/"
        },
        "id": "-cVuB_aKpgQ9",
        "outputId": "8d265d1b-ff9e-4787-fc5f-af82f7cdd175"
      },
      "execution_count": null,
      "outputs": [
        {
          "output_type": "stream",
          "name": "stdout",
          "text": [
            "Reading package lists... Done\n",
            "Building dependency tree... Done\n",
            "Reading state information... Done\n",
            "python3-pip is already the newest version (22.0.2+dfsg-1ubuntu0.4).\n",
            "0 upgraded, 0 newly installed, 0 to remove and 36 not upgraded.\n"
          ]
        }
      ]
    },
    {
      "cell_type": "code",
      "source": [
        "!python -m pip install setuptools==59.5.0"
      ],
      "metadata": {
        "colab": {
          "base_uri": "https://localhost:8080/"
        },
        "id": "i9PcAfPgr0fP",
        "outputId": "8bae78d7-4001-4fc1-8e65-878ad1e4482d"
      },
      "execution_count": null,
      "outputs": [
        {
          "output_type": "stream",
          "name": "stdout",
          "text": [
            "Requirement already satisfied: setuptools==59.5.0 in /usr/local/lib/python3.9/dist-packages (59.5.0)\n",
            "\u001b[33mWARNING: Running pip as the 'root' user can result in broken permissions and conflicting behaviour with the system package manager. It is recommended to use a virtual environment instead: https://pip.pypa.io/warnings/venv\u001b[0m\u001b[33m\n",
            "\u001b[0m"
          ]
        }
      ]
    },
    {
      "cell_type": "code",
      "source": [
        "!python -m pip install torch===1.11.0 torchvision===0.12.0 -f https://download.pytorch.org/whl/torch_stable.html"
      ],
      "metadata": {
        "colab": {
          "base_uri": "https://localhost:8080/"
        },
        "id": "XTlJZU_-NS9_",
        "outputId": "65e508cc-0c94-4c28-c169-281d29cbf8da"
      },
      "execution_count": null,
      "outputs": [
        {
          "output_type": "stream",
          "name": "stdout",
          "text": [
            "Looking in links: https://download.pytorch.org/whl/torch_stable.html\n",
            "\u001b[33mDEPRECATION: The HTML index page being used (https://download.pytorch.org/whl/torch_stable.html) is not a proper HTML 5 document. This is in violation of PEP 503 which requires these pages to be well-formed HTML 5 documents. Please reach out to the owners of this index page, and ask them to update this index page to a valid HTML 5 document. pip 22.2 will enforce this behaviour change. Discussion can be found at https://github.com/pypa/pip/issues/10825\u001b[0m\u001b[33m\n",
            "\u001b[0mCollecting torch===1.11.0\n",
            "  Using cached torch-1.11.0-cp39-cp39-manylinux1_x86_64.whl (750.6 MB)\n",
            "Collecting torchvision===0.12.0\n",
            "  Using cached torchvision-0.12.0-cp39-cp39-manylinux1_x86_64.whl (21.0 MB)\n",
            "Requirement already satisfied: typing-extensions in /usr/local/lib/python3.9/dist-packages (from torch===1.11.0) (4.9.0)\n",
            "Requirement already satisfied: requests in /usr/local/lib/python3.9/dist-packages (from torchvision===0.12.0) (2.31.0)\n",
            "Requirement already satisfied: numpy in /usr/local/lib/python3.9/dist-packages (from torchvision===0.12.0) (1.23.5)\n",
            "Requirement already satisfied: pillow!=8.3.*,>=5.3.0 in /usr/local/lib/python3.9/dist-packages (from torchvision===0.12.0) (9.5.0)\n",
            "Requirement already satisfied: idna<4,>=2.5 in /usr/local/lib/python3.9/dist-packages (from requests->torchvision===0.12.0) (2.10)\n",
            "Requirement already satisfied: charset-normalizer<4,>=2 in /usr/local/lib/python3.9/dist-packages (from requests->torchvision===0.12.0) (3.3.2)\n",
            "Requirement already satisfied: urllib3<3,>=1.21.1 in /usr/local/lib/python3.9/dist-packages (from requests->torchvision===0.12.0) (1.26.3)\n",
            "Requirement already satisfied: certifi>=2017.4.17 in /usr/local/lib/python3.9/dist-packages (from requests->torchvision===0.12.0) (2023.11.17)\n",
            "Installing collected packages: torch, torchvision\n",
            "  Attempting uninstall: torch\n",
            "    Found existing installation: torch 1.9.0+cu111\n",
            "    Uninstalling torch-1.9.0+cu111:\n",
            "      Successfully uninstalled torch-1.9.0+cu111\n",
            "  Attempting uninstall: torchvision\n",
            "    Found existing installation: torchvision 0.10.0+cu111\n",
            "    Uninstalling torchvision-0.10.0+cu111:\n",
            "      Successfully uninstalled torchvision-0.10.0+cu111\n",
            "\u001b[31mERROR: pip's dependency resolver does not currently take into account all the packages that are installed. This behaviour is the source of the following dependency conflicts.\n",
            "torchaudio 0.9.0 requires torch==1.9.0, but you have torch 1.11.0 which is incompatible.\u001b[0m\u001b[31m\n",
            "\u001b[0mSuccessfully installed torch-1.11.0 torchvision-0.12.0\n",
            "\u001b[33mWARNING: Running pip as the 'root' user can result in broken permissions and conflicting behaviour with the system package manager. It is recommended to use a virtual environment instead: https://pip.pypa.io/warnings/venv\u001b[0m\u001b[33m\n",
            "\u001b[0m"
          ]
        }
      ]
    },
    {
      "cell_type": "code",
      "source": [
        "!python -m pip install -r requirements.txt"
      ],
      "metadata": {
        "colab": {
          "base_uri": "https://localhost:8080/"
        },
        "id": "lUh9x9pLI_pu",
        "outputId": "91ec8cb1-1622-475e-daae-62dc5d2b678d"
      },
      "execution_count": null,
      "outputs": [
        {
          "output_type": "stream",
          "name": "stdout",
          "text": [
            "Requirement already satisfied: tensorboard==2.4.1 in /usr/local/lib/python3.9/dist-packages (from -r requirements.txt (line 1)) (2.4.1)\n",
            "Requirement already satisfied: tensorboard-plugin-wit==1.8.0 in /usr/local/lib/python3.9/dist-packages (from -r requirements.txt (line 2)) (1.8.0)\n",
            "Requirement already satisfied: absl-py==0.11.0 in /usr/local/lib/python3.9/dist-packages (from -r requirements.txt (line 3)) (0.11.0)\n",
            "Requirement already satisfied: cachetools==4.2.1 in /usr/local/lib/python3.9/dist-packages (from -r requirements.txt (line 4)) (4.2.1)\n",
            "Requirement already satisfied: chardet==4.0.0 in /usr/local/lib/python3.9/dist-packages (from -r requirements.txt (line 5)) (4.0.0)\n",
            "Requirement already satisfied: coloredlogs==15.0 in /usr/local/lib/python3.9/dist-packages (from -r requirements.txt (line 6)) (15.0)\n",
            "Requirement already satisfied: cycler==0.10.0 in /usr/local/lib/python3.9/dist-packages (from -r requirements.txt (line 7)) (0.10.0)\n",
            "Requirement already satisfied: google-auth==1.24.0 in /usr/local/lib/python3.9/dist-packages (from -r requirements.txt (line 8)) (1.24.0)\n",
            "Requirement already satisfied: google-auth-oauthlib==0.4.2 in /usr/local/lib/python3.9/dist-packages (from -r requirements.txt (line 9)) (0.4.2)\n",
            "Requirement already satisfied: grpcio==1.35.0 in /usr/local/lib/python3.9/dist-packages (from -r requirements.txt (line 10)) (1.35.0)\n",
            "Requirement already satisfied: humanfriendly==9.1 in /usr/local/lib/python3.9/dist-packages (from -r requirements.txt (line 11)) (9.1)\n",
            "Requirement already satisfied: idna==2.10 in /usr/local/lib/python3.9/dist-packages (from -r requirements.txt (line 12)) (2.10)\n",
            "Requirement already satisfied: imageio==2.9.0 in /usr/local/lib/python3.9/dist-packages (from -r requirements.txt (line 13)) (2.9.0)\n",
            "Requirement already satisfied: imageio-ffmpeg==0.4.3 in /usr/local/lib/python3.9/dist-packages (from -r requirements.txt (line 14)) (0.4.3)\n",
            "Requirement already satisfied: jedi==0.17.2 in /usr/local/lib/python3.9/dist-packages (from -r requirements.txt (line 15)) (0.17.2)\n",
            "Requirement already satisfied: joblib==1.0.0 in /usr/local/lib/python3.9/dist-packages (from -r requirements.txt (line 16)) (1.0.0)\n",
            "Requirement already satisfied: jsonpatch==1.28 in /usr/local/lib/python3.9/dist-packages (from -r requirements.txt (line 17)) (1.28)\n",
            "Requirement already satisfied: jsonpointer==2.0 in /usr/local/lib/python3.9/dist-packages (from -r requirements.txt (line 18)) (2.0)\n",
            "Requirement already satisfied: kiwisolver==1.3.1 in /usr/local/lib/python3.9/dist-packages (from -r requirements.txt (line 19)) (1.3.1)\n",
            "Requirement already satisfied: markdown==3.3.3 in /usr/local/lib/python3.9/dist-packages (from -r requirements.txt (line 20)) (3.3.3)\n",
            "Requirement already satisfied: matplotlib==3.3.4 in /usr/local/lib/python3.9/dist-packages (from -r requirements.txt (line 21)) (3.3.4)\n",
            "Requirement already satisfied: oauthlib==3.1.0 in /usr/local/lib/python3.9/dist-packages (from -r requirements.txt (line 22)) (3.1.0)\n",
            "Requirement already satisfied: pandas==1.2.1 in /usr/local/lib/python3.9/dist-packages (from -r requirements.txt (line 23)) (1.2.1)\n",
            "Requirement already satisfied: parso==0.7.1 in /usr/local/lib/python3.9/dist-packages (from -r requirements.txt (line 24)) (0.7.1)\n",
            "Requirement already satisfied: pluggy==0.13.1 in /usr/local/lib/python3.9/dist-packages (from -r requirements.txt (line 25)) (0.13.1)\n",
            "Requirement already satisfied: protobuf==3.14.0 in /usr/local/lib/python3.9/dist-packages (from -r requirements.txt (line 26)) (3.14.0)\n",
            "Requirement already satisfied: pyaml==20.4.0 in /usr/local/lib/python3.9/dist-packages (from -r requirements.txt (line 27)) (20.4.0)\n",
            "Requirement already satisfied: pyasn1==0.4.8 in /usr/local/lib/python3.9/dist-packages (from -r requirements.txt (line 28)) (0.4.8)\n",
            "Requirement already satisfied: pyasn1-modules==0.2.8 in /usr/local/lib/python3.9/dist-packages (from -r requirements.txt (line 29)) (0.2.8)\n",
            "Requirement already satisfied: python-jsonrpc-server==0.4.0 in /usr/local/lib/python3.9/dist-packages (from -r requirements.txt (line 30)) (0.4.0)\n",
            "Requirement already satisfied: python-language-server==0.36.2 in /usr/local/lib/python3.9/dist-packages (from -r requirements.txt (line 31)) (0.36.2)\n",
            "Requirement already satisfied: pytz==2020.5 in /usr/local/lib/python3.9/dist-packages (from -r requirements.txt (line 32)) (2020.5)\n",
            "Requirement already satisfied: pyyaml==5.4.1 in /usr/local/lib/python3.9/dist-packages (from -r requirements.txt (line 33)) (5.4.1)\n",
            "Collecting requests==2.25.1\n",
            "  Using cached requests-2.25.1-py2.py3-none-any.whl (61 kB)\n",
            "Requirement already satisfied: requests-oauthlib==1.3.0 in /usr/local/lib/python3.9/dist-packages (from -r requirements.txt (line 35)) (1.3.0)\n",
            "Requirement already satisfied: rsa==4.7 in /usr/local/lib/python3.9/dist-packages (from -r requirements.txt (line 36)) (4.7)\n",
            "Requirement already satisfied: scikit-learn==0.24.1 in /usr/local/lib/python3.9/dist-packages (from -r requirements.txt (line 37)) (0.24.1)\n",
            "Requirement already satisfied: scipy==1.6.0 in /usr/local/lib/python3.9/dist-packages (from -r requirements.txt (line 38)) (1.6.0)\n",
            "Requirement already satisfied: seaborn==0.11.1 in /usr/local/lib/python3.9/dist-packages (from -r requirements.txt (line 39)) (0.11.1)\n",
            "Requirement already satisfied: sqlalchemy==1.3.22 in /usr/local/lib/python3.9/dist-packages (from -r requirements.txt (line 40)) (1.3.22)\n",
            "Requirement already satisfied: threadpoolctl==2.1.0 in /usr/local/lib/python3.9/dist-packages (from -r requirements.txt (line 43)) (2.1.0)\n",
            "Requirement already satisfied: torch-tools==0.1.5 in /usr/local/lib/python3.9/dist-packages (from -r requirements.txt (line 44)) (0.1.5)\n",
            "Requirement already satisfied: torchfile==0.1.0 in /usr/local/lib/python3.9/dist-packages (from -r requirements.txt (line 45)) (0.1.0)\n",
            "Requirement already satisfied: tqdm==4.56.0 in /usr/local/lib/python3.9/dist-packages (from -r requirements.txt (line 46)) (4.56.0)\n",
            "Requirement already satisfied: ujson==4.0.2 in /usr/local/lib/python3.9/dist-packages (from -r requirements.txt (line 47)) (4.0.2)\n",
            "Requirement already satisfied: urllib3==1.26.3 in /usr/local/lib/python3.9/dist-packages (from -r requirements.txt (line 48)) (1.26.3)\n",
            "Requirement already satisfied: visdom==0.1.8.9 in /usr/local/lib/python3.9/dist-packages (from -r requirements.txt (line 49)) (0.1.8.9)\n",
            "Requirement already satisfied: websocket-client==0.57.0 in /usr/local/lib/python3.9/dist-packages (from -r requirements.txt (line 50)) (0.57.0)\n",
            "Requirement already satisfied: werkzeug==1.0.1 in /usr/local/lib/python3.9/dist-packages (from -r requirements.txt (line 51)) (1.0.1)\n",
            "Requirement already satisfied: setuptools>=41.0.0 in /usr/local/lib/python3.9/dist-packages (from tensorboard==2.4.1->-r requirements.txt (line 1)) (59.5.0)\n",
            "Requirement already satisfied: wheel>=0.26 in /usr/lib/python3/dist-packages (from tensorboard==2.4.1->-r requirements.txt (line 1)) (0.37.1)\n",
            "Requirement already satisfied: numpy>=1.12.0 in /usr/local/lib/python3.9/dist-packages (from tensorboard==2.4.1->-r requirements.txt (line 1)) (1.23.5)\n",
            "Requirement already satisfied: six>=1.10.0 in /usr/lib/python3/dist-packages (from tensorboard==2.4.1->-r requirements.txt (line 1)) (1.16.0)\n",
            "Requirement already satisfied: pillow in /usr/local/lib/python3.9/dist-packages (from imageio==2.9.0->-r requirements.txt (line 13)) (9.5.0)\n",
            "Requirement already satisfied: pyparsing!=2.0.4,!=2.1.2,!=2.1.6,>=2.0.3 in /usr/local/lib/python3.9/dist-packages (from matplotlib==3.3.4->-r requirements.txt (line 21)) (3.1.1)\n",
            "Requirement already satisfied: python-dateutil>=2.1 in /usr/local/lib/python3.9/dist-packages (from matplotlib==3.3.4->-r requirements.txt (line 21)) (2.8.2)\n",
            "Requirement already satisfied: certifi>=2017.4.17 in /usr/local/lib/python3.9/dist-packages (from requests==2.25.1->-r requirements.txt (line 34)) (2023.11.17)\n",
            "Requirement already satisfied: torchvision in /usr/local/lib/python3.9/dist-packages (from torch-tools==0.1.5->-r requirements.txt (line 44)) (0.12.0)\n",
            "Requirement already satisfied: jinja2 in /usr/local/lib/python3.9/dist-packages (from torch-tools==0.1.5->-r requirements.txt (line 44)) (3.1.3)\n",
            "Requirement already satisfied: torch in /usr/local/lib/python3.9/dist-packages (from torch-tools==0.1.5->-r requirements.txt (line 44)) (1.11.0)\n",
            "Requirement already satisfied: pyzmq in /usr/local/lib/python3.9/dist-packages (from visdom==0.1.8.9->-r requirements.txt (line 49)) (25.1.2)\n",
            "Requirement already satisfied: tornado in /usr/local/lib/python3.9/dist-packages (from visdom==0.1.8.9->-r requirements.txt (line 49)) (6.4)\n",
            "Requirement already satisfied: MarkupSafe>=2.0 in /usr/local/lib/python3.9/dist-packages (from jinja2->torch-tools==0.1.5->-r requirements.txt (line 44)) (2.1.4)\n",
            "Requirement already satisfied: typing-extensions in /usr/local/lib/python3.9/dist-packages (from torch->torch-tools==0.1.5->-r requirements.txt (line 44)) (4.9.0)\n",
            "Installing collected packages: requests\n",
            "  Attempting uninstall: requests\n",
            "    Found existing installation: requests 2.31.0\n",
            "    Uninstalling requests-2.31.0:\n",
            "      Successfully uninstalled requests-2.31.0\n",
            "\u001b[31mERROR: pip's dependency resolver does not currently take into account all the packages that are installed. This behaviour is the source of the following dependency conflicts.\n",
            "jupyterlab-server 2.25.2 requires requests>=2.31, but you have requests 2.25.1 which is incompatible.\u001b[0m\u001b[31m\n",
            "\u001b[0mSuccessfully installed requests-2.25.1\n",
            "\u001b[33mWARNING: Running pip as the 'root' user can result in broken permissions and conflicting behaviour with the system package manager. It is recommended to use a virtual environment instead: https://pip.pypa.io/warnings/venv\u001b[0m\u001b[33m\n",
            "\u001b[0m"
          ]
        }
      ]
    },
    {
      "cell_type": "code",
      "source": [
        "!python -m pip install protobuf==3.14.0"
      ],
      "metadata": {
        "colab": {
          "base_uri": "https://localhost:8080/"
        },
        "id": "Bzqzy8xwPbAq",
        "outputId": "30c3fde4-7ddd-47e2-df84-24905deff723"
      },
      "execution_count": null,
      "outputs": [
        {
          "output_type": "stream",
          "name": "stdout",
          "text": [
            "Requirement already satisfied: protobuf==3.14.0 in /usr/local/lib/python3.9/dist-packages (3.14.0)\n",
            "Requirement already satisfied: six>=1.9 in /usr/lib/python3/dist-packages (from protobuf==3.14.0) (1.16.0)\n",
            "\u001b[33mWARNING: Running pip as the 'root' user can result in broken permissions and conflicting behaviour with the system package manager. It is recommended to use a virtual environment instead: https://pip.pypa.io/warnings/venv\u001b[0m\u001b[33m\n",
            "\u001b[0m"
          ]
        }
      ]
    },
    {
      "cell_type": "code",
      "source": [
        "!python -m pip install numpy==1.23.5"
      ],
      "metadata": {
        "colab": {
          "base_uri": "https://localhost:8080/"
        },
        "id": "98HymBFwP7Wi",
        "outputId": "48db265e-a4ae-43a9-cc99-305ae7957ac5"
      },
      "execution_count": null,
      "outputs": [
        {
          "output_type": "stream",
          "name": "stdout",
          "text": [
            "Requirement already satisfied: numpy==1.23.5 in /usr/local/lib/python3.9/dist-packages (1.23.5)\n",
            "\u001b[33mWARNING: Running pip as the 'root' user can result in broken permissions and conflicting behaviour with the system package manager. It is recommended to use a virtual environment instead: https://pip.pypa.io/warnings/venv\u001b[0m\u001b[33m\n",
            "\u001b[0m"
          ]
        }
      ]
    },
    {
      "cell_type": "code",
      "source": [
        "!python -m pip install torch-tools"
      ],
      "metadata": {
        "colab": {
          "base_uri": "https://localhost:8080/"
        },
        "id": "JJVH4bWAQd1_",
        "outputId": "b20acfbd-161c-4e21-ed81-c0ad5cdda4f4"
      },
      "execution_count": null,
      "outputs": [
        {
          "output_type": "stream",
          "name": "stdout",
          "text": [
            "Requirement already satisfied: torch-tools in /usr/local/lib/python3.9/dist-packages (0.1.5)\n",
            "Requirement already satisfied: imageio-ffmpeg in /usr/local/lib/python3.9/dist-packages (from torch-tools) (0.4.3)\n",
            "Requirement already satisfied: sqlalchemy in /usr/local/lib/python3.9/dist-packages (from torch-tools) (1.3.22)\n",
            "Requirement already satisfied: torchvision in /usr/local/lib/python3.9/dist-packages (from torch-tools) (0.12.0)\n",
            "Requirement already satisfied: visdom in /usr/local/lib/python3.9/dist-packages (from torch-tools) (0.1.8.9)\n",
            "Requirement already satisfied: torch in /usr/local/lib/python3.9/dist-packages (from torch-tools) (1.11.0)\n",
            "Requirement already satisfied: coloredlogs in /usr/local/lib/python3.9/dist-packages (from torch-tools) (15.0)\n",
            "Requirement already satisfied: seaborn in /usr/local/lib/python3.9/dist-packages (from torch-tools) (0.11.1)\n",
            "Requirement already satisfied: tqdm in /usr/local/lib/python3.9/dist-packages (from torch-tools) (4.56.0)\n",
            "Requirement already satisfied: imageio in /usr/local/lib/python3.9/dist-packages (from torch-tools) (2.9.0)\n",
            "Requirement already satisfied: pyaml in /usr/local/lib/python3.9/dist-packages (from torch-tools) (20.4.0)\n",
            "Requirement already satisfied: numpy in /usr/local/lib/python3.9/dist-packages (from torch-tools) (1.23.5)\n",
            "Requirement already satisfied: jinja2 in /usr/local/lib/python3.9/dist-packages (from torch-tools) (3.1.3)\n",
            "Requirement already satisfied: humanfriendly>=9.1 in /usr/local/lib/python3.9/dist-packages (from coloredlogs->torch-tools) (9.1)\n",
            "Requirement already satisfied: pillow in /usr/local/lib/python3.9/dist-packages (from imageio->torch-tools) (9.5.0)\n",
            "Requirement already satisfied: MarkupSafe>=2.0 in /usr/local/lib/python3.9/dist-packages (from jinja2->torch-tools) (2.1.4)\n",
            "Requirement already satisfied: PyYAML in /usr/local/lib/python3.9/dist-packages (from pyaml->torch-tools) (5.4.1)\n",
            "Requirement already satisfied: scipy>=1.0 in /usr/local/lib/python3.9/dist-packages (from seaborn->torch-tools) (1.6.0)\n",
            "Requirement already satisfied: matplotlib>=2.2 in /usr/local/lib/python3.9/dist-packages (from seaborn->torch-tools) (3.3.4)\n",
            "Requirement already satisfied: pandas>=0.23 in /usr/local/lib/python3.9/dist-packages (from seaborn->torch-tools) (1.2.1)\n",
            "Requirement already satisfied: typing-extensions in /usr/local/lib/python3.9/dist-packages (from torch->torch-tools) (4.9.0)\n",
            "Requirement already satisfied: requests in /usr/local/lib/python3.9/dist-packages (from torchvision->torch-tools) (2.25.1)\n",
            "Requirement already satisfied: six in /usr/lib/python3/dist-packages (from visdom->torch-tools) (1.16.0)\n",
            "Requirement already satisfied: websocket-client in /usr/local/lib/python3.9/dist-packages (from visdom->torch-tools) (0.57.0)\n",
            "Requirement already satisfied: pyzmq in /usr/local/lib/python3.9/dist-packages (from visdom->torch-tools) (25.1.2)\n",
            "Requirement already satisfied: tornado in /usr/local/lib/python3.9/dist-packages (from visdom->torch-tools) (6.4)\n",
            "Requirement already satisfied: torchfile in /usr/local/lib/python3.9/dist-packages (from visdom->torch-tools) (0.1.0)\n",
            "Requirement already satisfied: jsonpatch in /usr/local/lib/python3.9/dist-packages (from visdom->torch-tools) (1.28)\n",
            "Requirement already satisfied: kiwisolver>=1.0.1 in /usr/local/lib/python3.9/dist-packages (from matplotlib>=2.2->seaborn->torch-tools) (1.3.1)\n",
            "Requirement already satisfied: cycler>=0.10 in /usr/local/lib/python3.9/dist-packages (from matplotlib>=2.2->seaborn->torch-tools) (0.10.0)\n",
            "Requirement already satisfied: pyparsing!=2.0.4,!=2.1.2,!=2.1.6,>=2.0.3 in /usr/local/lib/python3.9/dist-packages (from matplotlib>=2.2->seaborn->torch-tools) (3.1.1)\n",
            "Requirement already satisfied: python-dateutil>=2.1 in /usr/local/lib/python3.9/dist-packages (from matplotlib>=2.2->seaborn->torch-tools) (2.8.2)\n",
            "Requirement already satisfied: pytz>=2017.3 in /usr/local/lib/python3.9/dist-packages (from pandas>=0.23->seaborn->torch-tools) (2020.5)\n",
            "Requirement already satisfied: jsonpointer>=1.9 in /usr/local/lib/python3.9/dist-packages (from jsonpatch->visdom->torch-tools) (2.0)\n",
            "Requirement already satisfied: urllib3<1.27,>=1.21.1 in /usr/local/lib/python3.9/dist-packages (from requests->torchvision->torch-tools) (1.26.3)\n",
            "Requirement already satisfied: chardet<5,>=3.0.2 in /usr/local/lib/python3.9/dist-packages (from requests->torchvision->torch-tools) (4.0.0)\n",
            "Requirement already satisfied: certifi>=2017.4.17 in /usr/local/lib/python3.9/dist-packages (from requests->torchvision->torch-tools) (2023.11.17)\n",
            "Requirement already satisfied: idna<3,>=2.5 in /usr/local/lib/python3.9/dist-packages (from requests->torchvision->torch-tools) (2.10)\n",
            "\u001b[33mWARNING: Running pip as the 'root' user can result in broken permissions and conflicting behaviour with the system package manager. It is recommended to use a virtual environment instead: https://pip.pypa.io/warnings/venv\u001b[0m\u001b[33m\n",
            "\u001b[0m"
          ]
        }
      ]
    },
    {
      "cell_type": "code",
      "source": [
        "!python -m pip install scikit-learn"
      ],
      "metadata": {
        "colab": {
          "base_uri": "https://localhost:8080/"
        },
        "id": "esGq1GxeQsCp",
        "outputId": "2295cd93-d1a6-4190-9e88-dbff6f0ee236"
      },
      "execution_count": null,
      "outputs": [
        {
          "output_type": "stream",
          "name": "stdout",
          "text": [
            "Requirement already satisfied: scikit-learn in /usr/local/lib/python3.9/dist-packages (0.24.1)\n",
            "Requirement already satisfied: joblib>=0.11 in /usr/local/lib/python3.9/dist-packages (from scikit-learn) (1.0.0)\n",
            "Requirement already satisfied: numpy>=1.13.3 in /usr/local/lib/python3.9/dist-packages (from scikit-learn) (1.23.5)\n",
            "Requirement already satisfied: scipy>=0.19.1 in /usr/local/lib/python3.9/dist-packages (from scikit-learn) (1.6.0)\n",
            "Requirement already satisfied: threadpoolctl>=2.0.0 in /usr/local/lib/python3.9/dist-packages (from scikit-learn) (2.1.0)\n",
            "\u001b[33mWARNING: Running pip as the 'root' user can result in broken permissions and conflicting behaviour with the system package manager. It is recommended to use a virtual environment instead: https://pip.pypa.io/warnings/venv\u001b[0m\u001b[33m\n",
            "\u001b[0m"
          ]
        }
      ]
    },
    {
      "cell_type": "code",
      "source": [
        "!python -m pip install scipy==1.6.0"
      ],
      "metadata": {
        "colab": {
          "base_uri": "https://localhost:8080/"
        },
        "id": "q9dD_mowTyp9",
        "outputId": "8776fce0-250f-4377-e590-8cafe562a557"
      },
      "execution_count": null,
      "outputs": [
        {
          "output_type": "stream",
          "name": "stdout",
          "text": [
            "Requirement already satisfied: scipy==1.6.0 in /usr/local/lib/python3.9/dist-packages (1.6.0)\n",
            "Requirement already satisfied: numpy>=1.16.5 in /usr/local/lib/python3.9/dist-packages (from scipy==1.6.0) (1.23.5)\n",
            "\u001b[33mWARNING: Running pip as the 'root' user can result in broken permissions and conflicting behaviour with the system package manager. It is recommended to use a virtual environment instead: https://pip.pypa.io/warnings/venv\u001b[0m\u001b[33m\n",
            "\u001b[0m"
          ]
        }
      ]
    },
    {
      "cell_type": "code",
      "source": [
        "!python -m pip install tensorboard==2.4.1"
      ],
      "metadata": {
        "colab": {
          "base_uri": "https://localhost:8080/"
        },
        "id": "7FicgK-rb4gt",
        "outputId": "6f67218a-5a28-48c0-85a9-3f78ec2f956c"
      },
      "execution_count": null,
      "outputs": [
        {
          "output_type": "stream",
          "name": "stdout",
          "text": [
            "Requirement already satisfied: tensorboard==2.4.1 in /usr/local/lib/python3.9/dist-packages (2.4.1)\n",
            "Requirement already satisfied: requests<3,>=2.21.0 in /usr/local/lib/python3.9/dist-packages (from tensorboard==2.4.1) (2.25.1)\n",
            "Requirement already satisfied: tensorboard-plugin-wit>=1.6.0 in /usr/local/lib/python3.9/dist-packages (from tensorboard==2.4.1) (1.8.0)\n",
            "Requirement already satisfied: google-auth<2,>=1.6.3 in /usr/local/lib/python3.9/dist-packages (from tensorboard==2.4.1) (1.24.0)\n",
            "Requirement already satisfied: wheel>=0.26 in /usr/lib/python3/dist-packages (from tensorboard==2.4.1) (0.37.1)\n",
            "Requirement already satisfied: grpcio>=1.24.3 in /usr/local/lib/python3.9/dist-packages (from tensorboard==2.4.1) (1.35.0)\n",
            "Requirement already satisfied: setuptools>=41.0.0 in /usr/local/lib/python3.9/dist-packages (from tensorboard==2.4.1) (59.5.0)\n",
            "Requirement already satisfied: markdown>=2.6.8 in /usr/local/lib/python3.9/dist-packages (from tensorboard==2.4.1) (3.3.3)\n",
            "Requirement already satisfied: numpy>=1.12.0 in /usr/local/lib/python3.9/dist-packages (from tensorboard==2.4.1) (1.23.5)\n",
            "Requirement already satisfied: werkzeug>=0.11.15 in /usr/local/lib/python3.9/dist-packages (from tensorboard==2.4.1) (1.0.1)\n",
            "Requirement already satisfied: protobuf>=3.6.0 in /usr/local/lib/python3.9/dist-packages (from tensorboard==2.4.1) (3.14.0)\n",
            "Requirement already satisfied: google-auth-oauthlib<0.5,>=0.4.1 in /usr/local/lib/python3.9/dist-packages (from tensorboard==2.4.1) (0.4.2)\n",
            "Requirement already satisfied: absl-py>=0.4 in /usr/local/lib/python3.9/dist-packages (from tensorboard==2.4.1) (0.11.0)\n",
            "Requirement already satisfied: six>=1.10.0 in /usr/lib/python3/dist-packages (from tensorboard==2.4.1) (1.16.0)\n",
            "Requirement already satisfied: cachetools<5.0,>=2.0.0 in /usr/local/lib/python3.9/dist-packages (from google-auth<2,>=1.6.3->tensorboard==2.4.1) (4.2.1)\n",
            "Requirement already satisfied: rsa<5,>=3.1.4 in /usr/local/lib/python3.9/dist-packages (from google-auth<2,>=1.6.3->tensorboard==2.4.1) (4.7)\n",
            "Requirement already satisfied: pyasn1-modules>=0.2.1 in /usr/local/lib/python3.9/dist-packages (from google-auth<2,>=1.6.3->tensorboard==2.4.1) (0.2.8)\n",
            "Requirement already satisfied: requests-oauthlib>=0.7.0 in /usr/local/lib/python3.9/dist-packages (from google-auth-oauthlib<0.5,>=0.4.1->tensorboard==2.4.1) (1.3.0)\n",
            "Requirement already satisfied: certifi>=2017.4.17 in /usr/local/lib/python3.9/dist-packages (from requests<3,>=2.21.0->tensorboard==2.4.1) (2023.11.17)\n",
            "Requirement already satisfied: idna<3,>=2.5 in /usr/local/lib/python3.9/dist-packages (from requests<3,>=2.21.0->tensorboard==2.4.1) (2.10)\n",
            "Requirement already satisfied: chardet<5,>=3.0.2 in /usr/local/lib/python3.9/dist-packages (from requests<3,>=2.21.0->tensorboard==2.4.1) (4.0.0)\n",
            "Requirement already satisfied: urllib3<1.27,>=1.21.1 in /usr/local/lib/python3.9/dist-packages (from requests<3,>=2.21.0->tensorboard==2.4.1) (1.26.3)\n",
            "Requirement already satisfied: pyasn1<0.5.0,>=0.4.6 in /usr/local/lib/python3.9/dist-packages (from pyasn1-modules>=0.2.1->google-auth<2,>=1.6.3->tensorboard==2.4.1) (0.4.8)\n",
            "Requirement already satisfied: oauthlib>=3.0.0 in /usr/local/lib/python3.9/dist-packages (from requests-oauthlib>=0.7.0->google-auth-oauthlib<0.5,>=0.4.1->tensorboard==2.4.1) (3.1.0)\n",
            "\u001b[33mWARNING: Running pip as the 'root' user can result in broken permissions and conflicting behaviour with the system package manager. It is recommended to use a virtual environment instead: https://pip.pypa.io/warnings/venv\u001b[0m\u001b[33m\n",
            "\u001b[0m"
          ]
        }
      ]
    },
    {
      "cell_type": "code",
      "source": [
        "!python --version"
      ],
      "metadata": {
        "colab": {
          "base_uri": "https://localhost:8080/"
        },
        "id": "VgfSFzkqeWsB",
        "outputId": "8a2b965d-dfbc-4d69-b2b7-9cc9756f3d30"
      },
      "execution_count": null,
      "outputs": [
        {
          "output_type": "stream",
          "name": "stdout",
          "text": [
            "Python 3.9.18\n"
          ]
        }
      ]
    },
    {
      "cell_type": "code",
      "source": [
        "!sudo apt install python3.9-distutils"
      ],
      "metadata": {
        "colab": {
          "base_uri": "https://localhost:8080/"
        },
        "id": "vTHM3EcehzYZ",
        "outputId": "cc7fe7fc-1c43-4288-f3af-21aff5e9a9b2"
      },
      "execution_count": null,
      "outputs": [
        {
          "output_type": "stream",
          "name": "stdout",
          "text": [
            "Reading package lists... Done\n",
            "Building dependency tree... Done\n",
            "Reading state information... Done\n",
            "python3.9-distutils is already the newest version (3.9.18-1+jammy1).\n",
            "0 upgraded, 0 newly installed, 0 to remove and 36 not upgraded.\n"
          ]
        }
      ]
    },
    {
      "cell_type": "code",
      "source": [
        "!python -m pip install torch===1.11.0 torchvision===0.12.0 -f https://download.pytorch.org/whl/torch_stable.html"
      ],
      "metadata": {
        "colab": {
          "base_uri": "https://localhost:8080/"
        },
        "id": "yT2Cnu_LhOoC",
        "outputId": "c8f25d63-9a1c-4e11-ee62-60cb47dae82e"
      },
      "execution_count": null,
      "outputs": [
        {
          "output_type": "stream",
          "name": "stdout",
          "text": [
            "Looking in links: https://download.pytorch.org/whl/torch_stable.html\n",
            "Requirement already satisfied: torch===1.11.0 in /usr/local/lib/python3.9/dist-packages (1.11.0)\n",
            "Requirement already satisfied: torchvision===0.12.0 in /usr/local/lib/python3.9/dist-packages (0.12.0)\n",
            "Requirement already satisfied: typing-extensions in /usr/local/lib/python3.9/dist-packages (from torch===1.11.0) (4.9.0)\n",
            "Requirement already satisfied: requests in /usr/local/lib/python3.9/dist-packages (from torchvision===0.12.0) (2.25.1)\n",
            "Requirement already satisfied: numpy in /usr/local/lib/python3.9/dist-packages (from torchvision===0.12.0) (1.23.5)\n",
            "Requirement already satisfied: pillow!=8.3.*,>=5.3.0 in /usr/local/lib/python3.9/dist-packages (from torchvision===0.12.0) (9.5.0)\n",
            "Requirement already satisfied: certifi>=2017.4.17 in /usr/local/lib/python3.9/dist-packages (from requests->torchvision===0.12.0) (2023.11.17)\n",
            "Requirement already satisfied: chardet<5,>=3.0.2 in /usr/local/lib/python3.9/dist-packages (from requests->torchvision===0.12.0) (4.0.0)\n",
            "Requirement already satisfied: idna<3,>=2.5 in /usr/local/lib/python3.9/dist-packages (from requests->torchvision===0.12.0) (2.10)\n",
            "Requirement already satisfied: urllib3<1.27,>=1.21.1 in /usr/local/lib/python3.9/dist-packages (from requests->torchvision===0.12.0) (1.26.3)\n",
            "\u001b[33mWARNING: Running pip as the 'root' user can result in broken permissions and conflicting behaviour with the system package manager. It is recommended to use a virtual environment instead: https://pip.pypa.io/warnings/venv\u001b[0m\u001b[33m\n",
            "\u001b[0m"
          ]
        }
      ]
    },
    {
      "cell_type": "code",
      "source": [
        "!python -m pip --version"
      ],
      "metadata": {
        "colab": {
          "base_uri": "https://localhost:8080/"
        },
        "id": "q4nGr1tMhgmT",
        "outputId": "e76d5849-b647-406f-ae9c-bb4d35349688"
      },
      "execution_count": null,
      "outputs": [
        {
          "output_type": "stream",
          "name": "stdout",
          "text": [
            "pip 22.0.2 from /usr/lib/python3/dist-packages/pip (python 3.9)\n"
          ]
        }
      ]
    },
    {
      "cell_type": "code",
      "source": [
        "!python -m pip install jupyter==1.0.0"
      ],
      "metadata": {
        "colab": {
          "base_uri": "https://localhost:8080/"
        },
        "id": "4K0L40VwjMZQ",
        "outputId": "a9b0e875-a287-4df2-9a22-7e0d5491fb5c"
      },
      "execution_count": null,
      "outputs": [
        {
          "output_type": "stream",
          "name": "stdout",
          "text": [
            "Requirement already satisfied: jupyter==1.0.0 in /usr/local/lib/python3.9/dist-packages (1.0.0)\n",
            "Requirement already satisfied: qtconsole in /usr/local/lib/python3.9/dist-packages (from jupyter==1.0.0) (5.5.1)\n",
            "Requirement already satisfied: jupyter-console in /usr/local/lib/python3.9/dist-packages (from jupyter==1.0.0) (6.6.3)\n",
            "Requirement already satisfied: ipywidgets in /usr/local/lib/python3.9/dist-packages (from jupyter==1.0.0) (8.1.1)\n",
            "Requirement already satisfied: nbconvert in /usr/local/lib/python3.9/dist-packages (from jupyter==1.0.0) (7.14.2)\n",
            "Requirement already satisfied: notebook in /usr/local/lib/python3.9/dist-packages (from jupyter==1.0.0) (7.0.7)\n",
            "Requirement already satisfied: ipykernel in /usr/local/lib/python3.9/dist-packages (from jupyter==1.0.0) (6.29.0)\n",
            "Requirement already satisfied: tornado>=6.1 in /usr/local/lib/python3.9/dist-packages (from ipykernel->jupyter==1.0.0) (6.4)\n",
            "Requirement already satisfied: comm>=0.1.1 in /usr/local/lib/python3.9/dist-packages (from ipykernel->jupyter==1.0.0) (0.2.1)\n",
            "Requirement already satisfied: packaging in /usr/local/lib/python3.9/dist-packages (from ipykernel->jupyter==1.0.0) (23.2)\n",
            "Requirement already satisfied: psutil in /usr/local/lib/python3.9/dist-packages (from ipykernel->jupyter==1.0.0) (5.9.8)\n",
            "Requirement already satisfied: ipython>=7.23.1 in /usr/local/lib/python3.9/dist-packages (from ipykernel->jupyter==1.0.0) (8.18.1)\n",
            "Requirement already satisfied: matplotlib-inline>=0.1 in /usr/local/lib/python3.9/dist-packages (from ipykernel->jupyter==1.0.0) (0.1.6)\n",
            "Requirement already satisfied: pyzmq>=24 in /usr/local/lib/python3.9/dist-packages (from ipykernel->jupyter==1.0.0) (25.1.2)\n",
            "Requirement already satisfied: nest-asyncio in /usr/local/lib/python3.9/dist-packages (from ipykernel->jupyter==1.0.0) (1.6.0)\n",
            "Requirement already satisfied: debugpy>=1.6.5 in /usr/local/lib/python3.9/dist-packages (from ipykernel->jupyter==1.0.0) (1.8.0)\n",
            "Requirement already satisfied: jupyter-client>=6.1.12 in /usr/local/lib/python3.9/dist-packages (from ipykernel->jupyter==1.0.0) (8.6.0)\n",
            "Requirement already satisfied: traitlets>=5.4.0 in /usr/local/lib/python3.9/dist-packages (from ipykernel->jupyter==1.0.0) (5.14.1)\n",
            "Requirement already satisfied: jupyter-core!=5.0.*,>=4.12 in /usr/local/lib/python3.9/dist-packages (from ipykernel->jupyter==1.0.0) (5.7.1)\n",
            "Requirement already satisfied: jupyterlab-widgets~=3.0.9 in /usr/local/lib/python3.9/dist-packages (from ipywidgets->jupyter==1.0.0) (3.0.9)\n",
            "Requirement already satisfied: widgetsnbextension~=4.0.9 in /usr/local/lib/python3.9/dist-packages (from ipywidgets->jupyter==1.0.0) (4.0.9)\n",
            "Requirement already satisfied: pygments in /usr/local/lib/python3.9/dist-packages (from jupyter-console->jupyter==1.0.0) (2.17.2)\n",
            "Requirement already satisfied: prompt-toolkit>=3.0.30 in /usr/local/lib/python3.9/dist-packages (from jupyter-console->jupyter==1.0.0) (3.0.43)\n",
            "Requirement already satisfied: defusedxml in /usr/local/lib/python3.9/dist-packages (from nbconvert->jupyter==1.0.0) (0.7.1)\n",
            "Requirement already satisfied: jupyterlab-pygments in /usr/local/lib/python3.9/dist-packages (from nbconvert->jupyter==1.0.0) (0.3.0)\n",
            "Requirement already satisfied: mistune<4,>=2.0.3 in /usr/local/lib/python3.9/dist-packages (from nbconvert->jupyter==1.0.0) (3.0.2)\n",
            "Requirement already satisfied: nbclient>=0.5.0 in /usr/local/lib/python3.9/dist-packages (from nbconvert->jupyter==1.0.0) (0.9.0)\n",
            "Requirement already satisfied: beautifulsoup4 in /usr/local/lib/python3.9/dist-packages (from nbconvert->jupyter==1.0.0) (4.12.3)\n",
            "Requirement already satisfied: markupsafe>=2.0 in /usr/local/lib/python3.9/dist-packages (from nbconvert->jupyter==1.0.0) (2.1.4)\n",
            "Requirement already satisfied: tinycss2 in /usr/local/lib/python3.9/dist-packages (from nbconvert->jupyter==1.0.0) (1.2.1)\n",
            "Requirement already satisfied: pandocfilters>=1.4.1 in /usr/local/lib/python3.9/dist-packages (from nbconvert->jupyter==1.0.0) (1.5.1)\n",
            "Requirement already satisfied: jinja2>=3.0 in /usr/local/lib/python3.9/dist-packages (from nbconvert->jupyter==1.0.0) (3.1.3)\n",
            "Requirement already satisfied: bleach!=5.0.0 in /usr/local/lib/python3.9/dist-packages (from nbconvert->jupyter==1.0.0) (6.1.0)\n",
            "Requirement already satisfied: nbformat>=5.7 in /usr/local/lib/python3.9/dist-packages (from nbconvert->jupyter==1.0.0) (5.9.2)\n",
            "Requirement already satisfied: importlib-metadata>=3.6 in /usr/local/lib/python3.9/dist-packages (from nbconvert->jupyter==1.0.0) (7.0.1)\n",
            "Requirement already satisfied: jupyterlab-server<3,>=2.22.1 in /usr/local/lib/python3.9/dist-packages (from notebook->jupyter==1.0.0) (2.25.2)\n",
            "Requirement already satisfied: jupyterlab<5,>=4.0.2 in /usr/local/lib/python3.9/dist-packages (from notebook->jupyter==1.0.0) (4.0.11)\n",
            "Requirement already satisfied: jupyter-server<3,>=2.4.0 in /usr/local/lib/python3.9/dist-packages (from notebook->jupyter==1.0.0) (2.12.5)\n",
            "Requirement already satisfied: notebook-shim<0.3,>=0.2 in /usr/local/lib/python3.9/dist-packages (from notebook->jupyter==1.0.0) (0.2.3)\n",
            "Requirement already satisfied: qtpy>=2.4.0 in /usr/local/lib/python3.9/dist-packages (from qtconsole->jupyter==1.0.0) (2.4.1)\n",
            "Requirement already satisfied: six>=1.9.0 in /usr/lib/python3/dist-packages (from bleach!=5.0.0->nbconvert->jupyter==1.0.0) (1.16.0)\n",
            "Requirement already satisfied: webencodings in /usr/local/lib/python3.9/dist-packages (from bleach!=5.0.0->nbconvert->jupyter==1.0.0) (0.5.1)\n",
            "Requirement already satisfied: zipp>=0.5 in /usr/local/lib/python3.9/dist-packages (from importlib-metadata>=3.6->nbconvert->jupyter==1.0.0) (3.17.0)\n",
            "Requirement already satisfied: stack-data in /usr/local/lib/python3.9/dist-packages (from ipython>=7.23.1->ipykernel->jupyter==1.0.0) (0.6.3)\n",
            "Requirement already satisfied: typing-extensions in /usr/local/lib/python3.9/dist-packages (from ipython>=7.23.1->ipykernel->jupyter==1.0.0) (4.9.0)\n",
            "Requirement already satisfied: pexpect>4.3 in /usr/local/lib/python3.9/dist-packages (from ipython>=7.23.1->ipykernel->jupyter==1.0.0) (4.9.0)\n",
            "Requirement already satisfied: decorator in /usr/local/lib/python3.9/dist-packages (from ipython>=7.23.1->ipykernel->jupyter==1.0.0) (5.1.1)\n",
            "Requirement already satisfied: jedi>=0.16 in /usr/local/lib/python3.9/dist-packages (from ipython>=7.23.1->ipykernel->jupyter==1.0.0) (0.17.2)\n",
            "Requirement already satisfied: exceptiongroup in /usr/local/lib/python3.9/dist-packages (from ipython>=7.23.1->ipykernel->jupyter==1.0.0) (1.2.0)\n",
            "Requirement already satisfied: python-dateutil>=2.8.2 in /usr/local/lib/python3.9/dist-packages (from jupyter-client>=6.1.12->ipykernel->jupyter==1.0.0) (2.8.2)\n",
            "Requirement already satisfied: platformdirs>=2.5 in /usr/local/lib/python3.9/dist-packages (from jupyter-core!=5.0.*,>=4.12->ipykernel->jupyter==1.0.0) (4.1.0)\n",
            "Requirement already satisfied: prometheus-client in /usr/local/lib/python3.9/dist-packages (from jupyter-server<3,>=2.4.0->notebook->jupyter==1.0.0) (0.19.0)\n",
            "Requirement already satisfied: jupyter-events>=0.9.0 in /usr/local/lib/python3.9/dist-packages (from jupyter-server<3,>=2.4.0->notebook->jupyter==1.0.0) (0.9.0)\n",
            "Requirement already satisfied: argon2-cffi in /usr/local/lib/python3.9/dist-packages (from jupyter-server<3,>=2.4.0->notebook->jupyter==1.0.0) (23.1.0)\n",
            "Requirement already satisfied: anyio>=3.1.0 in /usr/local/lib/python3.9/dist-packages (from jupyter-server<3,>=2.4.0->notebook->jupyter==1.0.0) (4.2.0)\n",
            "Requirement already satisfied: overrides in /usr/local/lib/python3.9/dist-packages (from jupyter-server<3,>=2.4.0->notebook->jupyter==1.0.0) (7.6.0)\n",
            "Requirement already satisfied: terminado>=0.8.3 in /usr/local/lib/python3.9/dist-packages (from jupyter-server<3,>=2.4.0->notebook->jupyter==1.0.0) (0.18.0)\n",
            "Requirement already satisfied: websocket-client in /usr/local/lib/python3.9/dist-packages (from jupyter-server<3,>=2.4.0->notebook->jupyter==1.0.0) (0.57.0)\n",
            "Requirement already satisfied: jupyter-server-terminals in /usr/local/lib/python3.9/dist-packages (from jupyter-server<3,>=2.4.0->notebook->jupyter==1.0.0) (0.5.2)\n",
            "Requirement already satisfied: send2trash>=1.8.2 in /usr/local/lib/python3.9/dist-packages (from jupyter-server<3,>=2.4.0->notebook->jupyter==1.0.0) (1.8.2)\n",
            "Requirement already satisfied: async-lru>=1.0.0 in /usr/local/lib/python3.9/dist-packages (from jupyterlab<5,>=4.0.2->notebook->jupyter==1.0.0) (2.0.4)\n",
            "Requirement already satisfied: jupyter-lsp>=2.0.0 in /usr/local/lib/python3.9/dist-packages (from jupyterlab<5,>=4.0.2->notebook->jupyter==1.0.0) (2.2.2)\n",
            "Requirement already satisfied: tomli in /usr/local/lib/python3.9/dist-packages (from jupyterlab<5,>=4.0.2->notebook->jupyter==1.0.0) (2.0.1)\n",
            "Collecting requests>=2.31\n",
            "  Using cached requests-2.31.0-py3-none-any.whl (62 kB)\n",
            "Requirement already satisfied: jsonschema>=4.18.0 in /usr/local/lib/python3.9/dist-packages (from jupyterlab-server<3,>=2.22.1->notebook->jupyter==1.0.0) (4.21.1)\n",
            "Requirement already satisfied: json5>=0.9.0 in /usr/local/lib/python3.9/dist-packages (from jupyterlab-server<3,>=2.22.1->notebook->jupyter==1.0.0) (0.9.14)\n",
            "Requirement already satisfied: babel>=2.10 in /usr/local/lib/python3.9/dist-packages (from jupyterlab-server<3,>=2.22.1->notebook->jupyter==1.0.0) (2.14.0)\n",
            "Requirement already satisfied: fastjsonschema in /usr/local/lib/python3.9/dist-packages (from nbformat>=5.7->nbconvert->jupyter==1.0.0) (2.19.1)\n",
            "Requirement already satisfied: wcwidth in /usr/local/lib/python3.9/dist-packages (from prompt-toolkit>=3.0.30->jupyter-console->jupyter==1.0.0) (0.2.13)\n",
            "Requirement already satisfied: soupsieve>1.2 in /usr/local/lib/python3.9/dist-packages (from beautifulsoup4->nbconvert->jupyter==1.0.0) (2.5)\n",
            "Requirement already satisfied: idna>=2.8 in /usr/local/lib/python3.9/dist-packages (from anyio>=3.1.0->jupyter-server<3,>=2.4.0->notebook->jupyter==1.0.0) (2.10)\n",
            "Requirement already satisfied: sniffio>=1.1 in /usr/local/lib/python3.9/dist-packages (from anyio>=3.1.0->jupyter-server<3,>=2.4.0->notebook->jupyter==1.0.0) (1.3.0)\n",
            "Requirement already satisfied: parso<0.8.0,>=0.7.0 in /usr/local/lib/python3.9/dist-packages (from jedi>=0.16->ipython>=7.23.1->ipykernel->jupyter==1.0.0) (0.7.1)\n",
            "Requirement already satisfied: attrs>=22.2.0 in /usr/local/lib/python3.9/dist-packages (from jsonschema>=4.18.0->jupyterlab-server<3,>=2.22.1->notebook->jupyter==1.0.0) (23.2.0)\n",
            "Requirement already satisfied: referencing>=0.28.4 in /usr/local/lib/python3.9/dist-packages (from jsonschema>=4.18.0->jupyterlab-server<3,>=2.22.1->notebook->jupyter==1.0.0) (0.32.1)\n",
            "Requirement already satisfied: jsonschema-specifications>=2023.03.6 in /usr/local/lib/python3.9/dist-packages (from jsonschema>=4.18.0->jupyterlab-server<3,>=2.22.1->notebook->jupyter==1.0.0) (2023.12.1)\n",
            "Requirement already satisfied: rpds-py>=0.7.1 in /usr/local/lib/python3.9/dist-packages (from jsonschema>=4.18.0->jupyterlab-server<3,>=2.22.1->notebook->jupyter==1.0.0) (0.17.1)\n",
            "Requirement already satisfied: rfc3339-validator in /usr/local/lib/python3.9/dist-packages (from jupyter-events>=0.9.0->jupyter-server<3,>=2.4.0->notebook->jupyter==1.0.0) (0.1.4)\n",
            "Requirement already satisfied: rfc3986-validator>=0.1.1 in /usr/local/lib/python3.9/dist-packages (from jupyter-events>=0.9.0->jupyter-server<3,>=2.4.0->notebook->jupyter==1.0.0) (0.1.1)\n",
            "Requirement already satisfied: pyyaml>=5.3 in /usr/local/lib/python3.9/dist-packages (from jupyter-events>=0.9.0->jupyter-server<3,>=2.4.0->notebook->jupyter==1.0.0) (5.4.1)\n",
            "Requirement already satisfied: python-json-logger>=2.0.4 in /usr/local/lib/python3.9/dist-packages (from jupyter-events>=0.9.0->jupyter-server<3,>=2.4.0->notebook->jupyter==1.0.0) (2.0.7)\n",
            "Requirement already satisfied: ptyprocess>=0.5 in /usr/local/lib/python3.9/dist-packages (from pexpect>4.3->ipython>=7.23.1->ipykernel->jupyter==1.0.0) (0.7.0)\n",
            "Requirement already satisfied: urllib3<3,>=1.21.1 in /usr/local/lib/python3.9/dist-packages (from requests>=2.31->jupyterlab-server<3,>=2.22.1->notebook->jupyter==1.0.0) (1.26.3)\n",
            "Requirement already satisfied: certifi>=2017.4.17 in /usr/local/lib/python3.9/dist-packages (from requests>=2.31->jupyterlab-server<3,>=2.22.1->notebook->jupyter==1.0.0) (2023.11.17)\n",
            "Requirement already satisfied: charset-normalizer<4,>=2 in /usr/local/lib/python3.9/dist-packages (from requests>=2.31->jupyterlab-server<3,>=2.22.1->notebook->jupyter==1.0.0) (3.3.2)\n",
            "Requirement already satisfied: argon2-cffi-bindings in /usr/local/lib/python3.9/dist-packages (from argon2-cffi->jupyter-server<3,>=2.4.0->notebook->jupyter==1.0.0) (21.2.0)\n",
            "Requirement already satisfied: pure-eval in /usr/local/lib/python3.9/dist-packages (from stack-data->ipython>=7.23.1->ipykernel->jupyter==1.0.0) (0.2.2)\n",
            "Requirement already satisfied: asttokens>=2.1.0 in /usr/local/lib/python3.9/dist-packages (from stack-data->ipython>=7.23.1->ipykernel->jupyter==1.0.0) (2.4.1)\n",
            "Requirement already satisfied: executing>=1.2.0 in /usr/local/lib/python3.9/dist-packages (from stack-data->ipython>=7.23.1->ipykernel->jupyter==1.0.0) (2.0.1)\n",
            "Requirement already satisfied: jsonpointer>1.13 in /usr/local/lib/python3.9/dist-packages (from jsonschema>=4.18.0->jupyterlab-server<3,>=2.22.1->notebook->jupyter==1.0.0) (2.0)\n",
            "Requirement already satisfied: fqdn in /usr/local/lib/python3.9/dist-packages (from jsonschema>=4.18.0->jupyterlab-server<3,>=2.22.1->notebook->jupyter==1.0.0) (1.5.1)\n",
            "Requirement already satisfied: webcolors>=1.11 in /usr/local/lib/python3.9/dist-packages (from jsonschema>=4.18.0->jupyterlab-server<3,>=2.22.1->notebook->jupyter==1.0.0) (1.13)\n",
            "Requirement already satisfied: isoduration in /usr/local/lib/python3.9/dist-packages (from jsonschema>=4.18.0->jupyterlab-server<3,>=2.22.1->notebook->jupyter==1.0.0) (20.11.0)\n",
            "Requirement already satisfied: uri-template in /usr/local/lib/python3.9/dist-packages (from jsonschema>=4.18.0->jupyterlab-server<3,>=2.22.1->notebook->jupyter==1.0.0) (1.3.0)\n",
            "Requirement already satisfied: cffi>=1.0.1 in /usr/local/lib/python3.9/dist-packages (from argon2-cffi-bindings->argon2-cffi->jupyter-server<3,>=2.4.0->notebook->jupyter==1.0.0) (1.16.0)\n",
            "Requirement already satisfied: pycparser in /usr/local/lib/python3.9/dist-packages (from cffi>=1.0.1->argon2-cffi-bindings->argon2-cffi->jupyter-server<3,>=2.4.0->notebook->jupyter==1.0.0) (2.21)\n",
            "Requirement already satisfied: arrow>=0.15.0 in /usr/local/lib/python3.9/dist-packages (from isoduration->jsonschema>=4.18.0->jupyterlab-server<3,>=2.22.1->notebook->jupyter==1.0.0) (1.3.0)\n",
            "Requirement already satisfied: types-python-dateutil>=2.8.10 in /usr/local/lib/python3.9/dist-packages (from arrow>=0.15.0->isoduration->jsonschema>=4.18.0->jupyterlab-server<3,>=2.22.1->notebook->jupyter==1.0.0) (2.8.19.20240106)\n",
            "Installing collected packages: requests\n",
            "  Attempting uninstall: requests\n",
            "    Found existing installation: requests 2.25.1\n",
            "    Uninstalling requests-2.25.1:\n",
            "      Successfully uninstalled requests-2.25.1\n",
            "Successfully installed requests-2.31.0\n",
            "\u001b[33mWARNING: Running pip as the 'root' user can result in broken permissions and conflicting behaviour with the system package manager. It is recommended to use a virtual environment instead: https://pip.pypa.io/warnings/venv\u001b[0m\u001b[33m\n",
            "\u001b[0m"
          ]
        }
      ]
    },
    {
      "cell_type": "code",
      "source": [
        "!python -m pip install Pillow==9.5.0"
      ],
      "metadata": {
        "colab": {
          "base_uri": "https://localhost:8080/"
        },
        "id": "AWGZyvHlkNfX",
        "outputId": "950d5617-c996-44ca-ea7d-b36c58b27922"
      },
      "execution_count": null,
      "outputs": [
        {
          "output_type": "stream",
          "name": "stdout",
          "text": [
            "Requirement already satisfied: Pillow==9.5.0 in /usr/local/lib/python3.9/dist-packages (9.5.0)\n",
            "\u001b[33mWARNING: Running pip as the 'root' user can result in broken permissions and conflicting behaviour with the system package manager. It is recommended to use a virtual environment instead: https://pip.pypa.io/warnings/venv\u001b[0m\u001b[33m\n",
            "\u001b[0m"
          ]
        }
      ]
    },
    {
      "cell_type": "code",
      "source": [
        "!python -m pip install install torch==1.9.0+cu111 torchvision==0.10.0+cu111 torchaudio==0.9.0 -f https://download.pytorch.org/whl/torch_stable.html"
      ],
      "metadata": {
        "colab": {
          "base_uri": "https://localhost:8080/"
        },
        "id": "qR1GQ_OFqn3w",
        "outputId": "bf86be5f-61be-4356-e248-e265b434e987"
      },
      "execution_count": null,
      "outputs": [
        {
          "output_type": "stream",
          "name": "stdout",
          "text": [
            "Looking in links: https://download.pytorch.org/whl/torch_stable.html\n",
            "Requirement already satisfied: install in /usr/local/lib/python3.9/dist-packages (1.3.5)\n",
            "\u001b[33mDEPRECATION: The HTML index page being used (https://download.pytorch.org/whl/torch_stable.html) is not a proper HTML 5 document. This is in violation of PEP 503 which requires these pages to be well-formed HTML 5 documents. Please reach out to the owners of this index page, and ask them to update this index page to a valid HTML 5 document. pip 22.2 will enforce this behaviour change. Discussion can be found at https://github.com/pypa/pip/issues/10825\u001b[0m\u001b[33m\n",
            "\u001b[0mCollecting torch==1.9.0+cu111\n",
            "  Using cached https://download.pytorch.org/whl/cu111/torch-1.9.0%2Bcu111-cp39-cp39-linux_x86_64.whl (2041.4 MB)\n",
            "Collecting torchvision==0.10.0+cu111\n",
            "  Using cached https://download.pytorch.org/whl/cu111/torchvision-0.10.0%2Bcu111-cp39-cp39-linux_x86_64.whl (23.1 MB)\n",
            "Requirement already satisfied: torchaudio==0.9.0 in /usr/local/lib/python3.9/dist-packages (0.9.0)\n",
            "Requirement already satisfied: typing-extensions in /usr/local/lib/python3.9/dist-packages (from torch==1.9.0+cu111) (4.9.0)\n",
            "Requirement already satisfied: pillow>=5.3.0 in /usr/local/lib/python3.9/dist-packages (from torchvision==0.10.0+cu111) (9.5.0)\n",
            "Requirement already satisfied: numpy in /usr/local/lib/python3.9/dist-packages (from torchvision==0.10.0+cu111) (1.23.5)\n",
            "Installing collected packages: torch, torchvision\n",
            "  Attempting uninstall: torch\n",
            "    Found existing installation: torch 1.11.0\n",
            "    Uninstalling torch-1.11.0:\n",
            "      Successfully uninstalled torch-1.11.0\n",
            "  Attempting uninstall: torchvision\n",
            "    Found existing installation: torchvision 0.12.0\n",
            "    Uninstalling torchvision-0.12.0:\n",
            "      Successfully uninstalled torchvision-0.12.0\n",
            "Successfully installed torch-1.9.0+cu111 torchvision-0.10.0+cu111\n",
            "\u001b[33mWARNING: Running pip as the 'root' user can result in broken permissions and conflicting behaviour with the system package manager. It is recommended to use a virtual environment instead: https://pip.pypa.io/warnings/venv\u001b[0m\u001b[33m\n",
            "\u001b[0m"
          ]
        }
      ]
    },
    {
      "cell_type": "code",
      "source": [
        "!python -m pip install torchinfo"
      ],
      "metadata": {
        "colab": {
          "base_uri": "https://localhost:8080/"
        },
        "id": "3TCUsVBXixR0",
        "outputId": "6b3d8067-af08-47c7-de47-015ee49f1f0f"
      },
      "execution_count": null,
      "outputs": [
        {
          "output_type": "stream",
          "name": "stdout",
          "text": [
            "Requirement already satisfied: torchinfo in /usr/local/lib/python3.9/dist-packages (1.8.0)\n",
            "\u001b[33mWARNING: Running pip as the 'root' user can result in broken permissions and conflicting behaviour with the system package manager. It is recommended to use a virtual environment instead: https://pip.pypa.io/warnings/venv\u001b[0m\u001b[33m\n",
            "\u001b[0m"
          ]
        }
      ]
    },
    {
      "cell_type": "code",
      "source": [
        "# !python -m scripts.train --checkpoint_dir out_dir --data data_dir --num_steps 20000"
      ],
      "metadata": {
        "id": "V1HDGafWKuLR"
      },
      "execution_count": null,
      "outputs": []
    },
    {
      "cell_type": "code",
      "source": [
        "!python -m scripts.eval --data data_dir --checkpoint_dir out_dir"
      ],
      "metadata": {
        "colab": {
          "base_uri": "https://localhost:8080/"
        },
        "id": "5vbkAjzdMkKp",
        "outputId": "504b04ed-30fd-4b80-f8bc-02134f67ba90"
      },
      "execution_count": null,
      "outputs": [
        {
          "output_type": "stream",
          "name": "stdout",
          "text": [
            "\u001b[32m2024-01-23 09:13:38\u001b[0m \u001b[35m618360ad7b21\u001b[0m \u001b[34m__main__[29935]\u001b[0m \u001b[1;30mINFO\u001b[0m Using seed 2.\n",
            "\u001b[32m2024-01-23 09:13:43\u001b[0m \u001b[35m618360ad7b21\u001b[0m \u001b[34mttools.training[29935]\u001b[0m \u001b[1;30mINFO\u001b[0m No optimizer state will be stored in the checkpointer\n",
            "model:Model(\n",
            "  (im_encoder): Encoder(\n",
            "    (blocks): ModuleList(\n",
            "      (0): _DownBlock(\n",
            "        (conv1): PartialConv2d(3, 128, kernel_size=(3, 3), stride=(1, 1), padding=(1, 1))\n",
            "        (conv2): PartialConv2d(128, 128, kernel_size=(3, 3), stride=(2, 2), padding=(1, 1))\n",
            "        (norm1): GroupNorm(8, 128, eps=1e-05, affine=True)\n",
            "        (norm2): GroupNorm(8, 128, eps=1e-05, affine=True)\n",
            "        (nonlinearity): LeakyReLU(negative_slope=0.01, inplace=True)\n",
            "      )\n",
            "      (1): _DownBlock(\n",
            "        (conv1): PartialConv2d(128, 128, kernel_size=(3, 3), stride=(1, 1), padding=(1, 1))\n",
            "        (conv2): PartialConv2d(128, 128, kernel_size=(3, 3), stride=(2, 2), padding=(1, 1))\n",
            "        (norm1): GroupNorm(8, 128, eps=1e-05, affine=True)\n",
            "        (norm2): GroupNorm(8, 128, eps=1e-05, affine=True)\n",
            "        (nonlinearity): LeakyReLU(negative_slope=0.01, inplace=True)\n",
            "      )\n",
            "      (2): _DownBlock(\n",
            "        (conv1): PartialConv2d(128, 128, kernel_size=(3, 3), stride=(1, 1), padding=(1, 1))\n",
            "        (conv2): PartialConv2d(128, 128, kernel_size=(3, 3), stride=(2, 2), padding=(1, 1))\n",
            "        (norm1): GroupNorm(8, 128, eps=1e-05, affine=True)\n",
            "        (norm2): GroupNorm(8, 128, eps=1e-05, affine=True)\n",
            "        (nonlinearity): LeakyReLU(negative_slope=0.01, inplace=True)\n",
            "      )\n",
            "      (3): _DownBlock(\n",
            "        (conv1): PartialConv2d(128, 128, kernel_size=(3, 3), stride=(1, 1), padding=(1, 1))\n",
            "        (conv2): PartialConv2d(128, 128, kernel_size=(3, 3), stride=(2, 2), padding=(1, 1))\n",
            "        (norm1): GroupNorm(8, 128, eps=1e-05, affine=True)\n",
            "        (norm2): GroupNorm(8, 128, eps=1e-05, affine=True)\n",
            "        (nonlinearity): LeakyReLU(negative_slope=0.01, inplace=True)\n",
            "      )\n",
            "    )\n",
            "    (heads): ModuleList(\n",
            "      (0): PartialConv2d(128, 128, kernel_size=(3, 3), stride=(1, 1), padding=(1, 1))\n",
            "      (1): PartialConv2d(128, 128, kernel_size=(3, 3), stride=(1, 1), padding=(1, 1))\n",
            "    )\n",
            "  )\n",
            "  (project): Sequential(\n",
            "    (0): Linear(in_features=128, out_features=128, bias=True)\n",
            "    (1): LayerNorm((128,), eps=1e-05, elementwise_affine=False)\n",
            "  )\n",
            "  (encoder_xform): Encoder(\n",
            "    (blocks): ModuleList(\n",
            "      (0): _DownBlock(\n",
            "        (conv1): PartialConv2d(7, 128, kernel_size=(3, 3), stride=(1, 1), padding=(1, 1))\n",
            "        (conv2): PartialConv2d(128, 128, kernel_size=(3, 3), stride=(2, 2), padding=(1, 1))\n",
            "        (norm1): GroupNorm(8, 128, eps=1e-05, affine=True)\n",
            "        (norm2): GroupNorm(8, 128, eps=1e-05, affine=True)\n",
            "        (nonlinearity): LeakyReLU(negative_slope=0.01, inplace=True)\n",
            "      )\n",
            "      (1): _DownBlock(\n",
            "        (conv1): PartialConv2d(128, 128, kernel_size=(3, 3), stride=(1, 1), padding=(1, 1))\n",
            "        (conv2): PartialConv2d(128, 128, kernel_size=(3, 3), stride=(2, 2), padding=(1, 1))\n",
            "        (norm1): GroupNorm(8, 128, eps=1e-05, affine=True)\n",
            "        (norm2): GroupNorm(8, 128, eps=1e-05, affine=True)\n",
            "        (nonlinearity): LeakyReLU(negative_slope=0.01, inplace=True)\n",
            "      )\n",
            "      (2): _DownBlock(\n",
            "        (conv1): PartialConv2d(128, 128, kernel_size=(3, 3), stride=(1, 1), padding=(1, 1))\n",
            "        (conv2): PartialConv2d(128, 128, kernel_size=(3, 3), stride=(2, 2), padding=(1, 1))\n",
            "        (norm1): GroupNorm(8, 128, eps=1e-05, affine=True)\n",
            "        (norm2): GroupNorm(8, 128, eps=1e-05, affine=True)\n",
            "        (nonlinearity): LeakyReLU(negative_slope=0.01, inplace=True)\n",
            "      )\n",
            "      (3): _DownBlock(\n",
            "        (conv1): PartialConv2d(128, 128, kernel_size=(3, 3), stride=(1, 1), padding=(1, 1))\n",
            "        (conv2): PartialConv2d(128, 128, kernel_size=(3, 3), stride=(2, 2), padding=(1, 1))\n",
            "        (norm1): GroupNorm(8, 128, eps=1e-05, affine=True)\n",
            "        (norm2): GroupNorm(8, 128, eps=1e-05, affine=True)\n",
            "        (nonlinearity): LeakyReLU(negative_slope=0.01, inplace=True)\n",
            "      )\n",
            "      (4): _DownBlock(\n",
            "        (conv1): PartialConv2d(128, 128, kernel_size=(3, 3), stride=(1, 1), padding=(1, 1))\n",
            "        (conv2): PartialConv2d(128, 128, kernel_size=(3, 3), stride=(2, 2), padding=(1, 1))\n",
            "        (norm1): GroupNorm(8, 128, eps=1e-05, affine=True)\n",
            "        (norm2): GroupNorm(8, 128, eps=1e-05, affine=True)\n",
            "        (nonlinearity): LeakyReLU(negative_slope=0.01, inplace=True)\n",
            "      )\n",
            "    )\n",
            "    (heads): ModuleList(\n",
            "      (0): PartialConv2d(128, 128, kernel_size=(3, 3), stride=(1, 1), padding=(1, 1))\n",
            "    )\n",
            "  )\n",
            "  (probs): Sequential(\n",
            "    (0): Linear(in_features=128, out_features=128, bias=True)\n",
            "    (1): GroupNorm(8, 128, eps=1e-05, affine=True)\n",
            "    (2): LeakyReLU(negative_slope=0.01)\n",
            "    (3): Linear(in_features=128, out_features=1, bias=True)\n",
            "    (4): Sigmoid()\n",
            "  )\n",
            "  (shifts): Sequential(\n",
            "    (0): Linear(in_features=128, out_features=128, bias=True)\n",
            "    (1): GroupNorm(8, 128, eps=1e-05, affine=True)\n",
            "    (2): LeakyReLU(negative_slope=0.01)\n",
            "    (3): Linear(in_features=128, out_features=2, bias=True)\n",
            "    (4): Tanh()\n",
            "  )\n",
            "  (learned_dict): Dictionary(\n",
            "    (decode): Sequential(\n",
            "      (0): Linear(in_features=128, out_features=1024, bias=True)\n",
            "      (1): GroupNorm(8, 1024, eps=1e-05, affine=True)\n",
            "      (2): ReLU(inplace=True)\n",
            "      (3): Linear(in_features=1024, out_features=4096, bias=True)\n",
            "      (4): Sigmoid()\n",
            "    )\n",
            "  )\n",
            "  (bg_encoder): Encoder(\n",
            "    (blocks): ModuleList(\n",
            "      (0): _DownBlock(\n",
            "        (conv1): PartialConv2d(3, 128, kernel_size=(3, 3), stride=(1, 1), padding=(1, 1))\n",
            "        (conv2): PartialConv2d(128, 128, kernel_size=(3, 3), stride=(2, 2), padding=(1, 1))\n",
            "        (norm1): GroupNorm(8, 128, eps=1e-05, affine=True)\n",
            "        (norm2): GroupNorm(8, 128, eps=1e-05, affine=True)\n",
            "        (nonlinearity): LeakyReLU(negative_slope=0.01, inplace=True)\n",
            "      )\n",
            "      (1): _DownBlock(\n",
            "        (conv1): PartialConv2d(128, 128, kernel_size=(3, 3), stride=(1, 1), padding=(1, 1))\n",
            "        (conv2): PartialConv2d(128, 128, kernel_size=(3, 3), stride=(2, 2), padding=(1, 1))\n",
            "        (norm1): GroupNorm(8, 128, eps=1e-05, affine=True)\n",
            "        (norm2): GroupNorm(8, 128, eps=1e-05, affine=True)\n",
            "        (nonlinearity): LeakyReLU(negative_slope=0.01, inplace=True)\n",
            "      )\n",
            "      (2): _DownBlock(\n",
            "        (conv1): PartialConv2d(128, 128, kernel_size=(3, 3), stride=(1, 1), padding=(1, 1))\n",
            "        (conv2): PartialConv2d(128, 128, kernel_size=(3, 3), stride=(2, 2), padding=(1, 1))\n",
            "        (norm1): GroupNorm(8, 128, eps=1e-05, affine=True)\n",
            "        (norm2): GroupNorm(8, 128, eps=1e-05, affine=True)\n",
            "        (nonlinearity): LeakyReLU(negative_slope=0.01, inplace=True)\n",
            "      )\n",
            "      (3): _DownBlock(\n",
            "        (conv1): PartialConv2d(128, 128, kernel_size=(3, 3), stride=(1, 1), padding=(1, 1))\n",
            "        (conv2): PartialConv2d(128, 128, kernel_size=(3, 3), stride=(2, 2), padding=(1, 1))\n",
            "        (norm1): GroupNorm(8, 128, eps=1e-05, affine=True)\n",
            "        (norm2): GroupNorm(8, 128, eps=1e-05, affine=True)\n",
            "        (nonlinearity): LeakyReLU(negative_slope=0.01, inplace=True)\n",
            "      )\n",
            "      (4): _DownBlock(\n",
            "        (conv1): PartialConv2d(128, 128, kernel_size=(3, 3), stride=(1, 1), padding=(1, 1))\n",
            "        (conv2): PartialConv2d(128, 128, kernel_size=(3, 3), stride=(2, 2), padding=(1, 1))\n",
            "        (norm1): GroupNorm(8, 128, eps=1e-05, affine=True)\n",
            "        (norm2): GroupNorm(8, 128, eps=1e-05, affine=True)\n",
            "        (nonlinearity): LeakyReLU(negative_slope=0.01, inplace=True)\n",
            "      )\n",
            "      (5): _DownBlock(\n",
            "        (conv1): PartialConv2d(128, 128, kernel_size=(3, 3), stride=(1, 1), padding=(1, 1))\n",
            "        (conv2): PartialConv2d(128, 128, kernel_size=(3, 3), stride=(2, 2), padding=(1, 1))\n",
            "        (norm1): GroupNorm(8, 128, eps=1e-05, affine=True)\n",
            "        (norm2): GroupNorm(8, 128, eps=1e-05, affine=True)\n",
            "        (nonlinearity): LeakyReLU(negative_slope=0.01, inplace=True)\n",
            "      )\n",
            "      (6): _DownBlock(\n",
            "        (conv1): PartialConv2d(128, 128, kernel_size=(3, 3), stride=(1, 1), padding=(1, 1))\n",
            "        (conv2): PartialConv2d(128, 128, kernel_size=(3, 3), stride=(2, 2), padding=(1, 1))\n",
            "        (norm1): GroupNorm(8, 128, eps=1e-05, affine=True)\n",
            "        (norm2): GroupNorm(8, 128, eps=1e-05, affine=True)\n",
            "        (nonlinearity): LeakyReLU(negative_slope=0.01, inplace=True)\n",
            "      )\n",
            "    )\n",
            "    (heads): ModuleList(\n",
            "      (0): PartialConv2d(128, 128, kernel_size=(3, 3), stride=(1, 1), padding=(1, 1))\n",
            "    )\n",
            "  )\n",
            "  (bg_x): Sequential(\n",
            "    (0): Linear(in_features=128, out_features=128, bias=True)\n",
            "    (1): GroupNorm(8, 128, eps=1e-05, affine=True)\n",
            "    (2): LeakyReLU(negative_slope=0.01)\n",
            "    (3): Linear(in_features=128, out_features=385, bias=True)\n",
            "    (4): Softmax(dim=-1)\n",
            "  )\n",
            ")\n",
            "model_summary:\n",
            "=================================================================\n",
            "Layer (type:depth-idx)                   Param #\n",
            "=================================================================\n",
            "Model                                    --\n",
            "├─Encoder: 1-1                           --\n",
            "│    └─ModuleList: 2-1                   --\n",
            "│    │    └─_DownBlock: 3-1              151,680\n",
            "│    │    └─_DownBlock: 3-2              295,680\n",
            "│    │    └─_DownBlock: 3-3              295,680\n",
            "│    │    └─_DownBlock: 3-4              295,680\n",
            "│    └─ModuleList: 2-2                   --\n",
            "│    │    └─PartialConv2d: 3-5           147,584\n",
            "│    │    └─PartialConv2d: 3-6           147,584\n",
            "├─Sequential: 1-2                        --\n",
            "│    └─Linear: 2-3                       16,512\n",
            "│    └─LayerNorm: 2-4                    --\n",
            "├─Encoder: 1-3                           --\n",
            "│    └─ModuleList: 2-5                   --\n",
            "│    │    └─_DownBlock: 3-7              156,288\n",
            "│    │    └─_DownBlock: 3-8              295,680\n",
            "│    │    └─_DownBlock: 3-9              295,680\n",
            "│    │    └─_DownBlock: 3-10             295,680\n",
            "│    │    └─_DownBlock: 3-11             295,680\n",
            "│    └─ModuleList: 2-6                   --\n",
            "│    │    └─PartialConv2d: 3-12          147,584\n",
            "├─Sequential: 1-4                        --\n",
            "│    └─Linear: 2-7                       16,512\n",
            "│    └─GroupNorm: 2-8                    256\n",
            "│    └─LeakyReLU: 2-9                    --\n",
            "│    └─Linear: 2-10                      129\n",
            "│    └─Sigmoid: 2-11                     --\n",
            "├─Sequential: 1-5                        --\n",
            "│    └─Linear: 2-12                      16,512\n",
            "│    └─GroupNorm: 2-13                   256\n",
            "│    └─LeakyReLU: 2-14                   --\n",
            "│    └─Linear: 2-15                      258\n",
            "│    └─Tanh: 2-16                        --\n",
            "├─Dictionary: 1-6                        19,200\n",
            "│    └─Sequential: 2-17                  --\n",
            "│    │    └─Linear: 3-13                 132,096\n",
            "│    │    └─GroupNorm: 3-14              2,048\n",
            "│    │    └─ReLU: 3-15                   --\n",
            "│    │    └─Linear: 3-16                 4,198,400\n",
            "│    │    └─Sigmoid: 3-17                --\n",
            "├─Encoder: 1-7                           --\n",
            "│    └─ModuleList: 2-18                  --\n",
            "│    │    └─_DownBlock: 3-18             151,680\n",
            "│    │    └─_DownBlock: 3-19             295,680\n",
            "│    │    └─_DownBlock: 3-20             295,680\n",
            "│    │    └─_DownBlock: 3-21             295,680\n",
            "│    │    └─_DownBlock: 3-22             295,680\n",
            "│    │    └─_DownBlock: 3-23             295,680\n",
            "│    │    └─_DownBlock: 3-24             295,680\n",
            "│    └─ModuleList: 2-19                  --\n",
            "│    │    └─PartialConv2d: 3-25          147,584\n",
            "├─Sequential: 1-8                        --\n",
            "│    └─Linear: 2-20                      16,512\n",
            "│    └─GroupNorm: 2-21                   256\n",
            "│    └─LeakyReLU: 2-22                   --\n",
            "│    └─Linear: 2-23                      49,665\n",
            "│    └─Softmax: 2-24                     --\n",
            "=================================================================\n",
            "Total params: 9,362,436\n",
            "Trainable params: 9,362,436\n",
            "Non-trainable params: 0\n",
            "=================================================================\n",
            "learned_dict:torch.Size([150, 4, 32, 32])\n",
            "dict_codes:torch.Size([150, 128])\n"
          ]
        }
      ]
    }
  ]
}